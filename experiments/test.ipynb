{
 "cells": [
  {
   "cell_type": "code",
   "execution_count": 2,
   "id": "b885f9dd",
   "metadata": {},
   "outputs": [],
   "source": [
    "from autogen_core.models import UserMessage\n",
    "from autogen_ext.models.openai import OpenAIChatCompletionClient"
   ]
  },
  {
   "cell_type": "code",
   "execution_count": 5,
   "id": "1501ef73",
   "metadata": {},
   "outputs": [
    {
     "name": "stdout",
     "output_type": "stream",
     "text": [
      "finish_reason='stop' content=\"**Paris** is the capital city of France.\\n\\nIt is important as the country's central hub for government, culture, business, and transportation, and is the most populous city in France. famous landmarks include the Eiffel Tower, the Louvre Museum, and Notre Dame Cathedral.\" usage=RequestUsage(prompt_tokens=12, completion_tokens=362) cached=False logprobs=None thought=None\n"
     ]
    }
   ],
   "source": [
    "\n",
    "\n",
    "open_router_model_client =  OpenAIChatCompletionClient(\n",
    "    base_url=\"https://openrouter.ai/api/v1\",\n",
    "    model=\"deepseek/deepseek-r1-0528-qwen3-8b:free\",\n",
    "    api_key = open_router_api_key,\n",
    "    model_info={\n",
    "        \"family\":'deepseek',\n",
    "        \"vision\" :True,\n",
    "        \"function_calling\":True,\n",
    "        \"json_output\": False\n",
    "    }\n",
    ")\n",
    "\n",
    "\n",
    "response = await open_router_model_client.create([UserMessage(content=\"What is the capital of France?\", source=\"user\")])\n",
    "\n",
    "print(response)"
   ]
  },
  {
   "cell_type": "code",
   "execution_count": null,
   "id": "54aee809",
   "metadata": {},
   "outputs": [
    {
     "name": "stderr",
     "output_type": "stream",
     "text": [
      "C:\\Users\\Charan\\AppData\\Local\\Temp\\ipykernel_9700\\3761924607.py:16: UserWarning: The current event loop policy is not WindowsProactorEventLoopPolicy. This may cause issues with subprocesses. Try setting the event loop policy to WindowsProactorEventLoopPolicy. For example: `asyncio.set_event_loop_policy(asyncio.WindowsProactorEventLoopPolicy())`. See https://docs.python.org/3/library/asyncio-eventloop.html#asyncio.ProactorEventLoop.\n",
      "  docker = LocalCommandLineCodeExecutor(\n"
     ]
    },
    {
     "ename": "NotImplementedError",
     "evalue": "",
     "output_type": "error",
     "traceback": [
      "\u001b[1;31m---------------------------------------------------------------------------\u001b[0m",
      "\u001b[1;31mNotImplementedError\u001b[0m                       Traceback (most recent call last)",
      "Cell \u001b[1;32mIn[13], line 52\u001b[0m\n\u001b[0;32m     47\u001b[0m     \u001b[38;5;28mprint\u001b[39m(\u001b[38;5;124m\"\u001b[39m\u001b[38;5;124mThe result is\u001b[39m\u001b[38;5;124m\"\u001b[39m,result)\n\u001b[0;32m     49\u001b[0m     \u001b[38;5;28;01mawait\u001b[39;00m docker\u001b[38;5;241m.\u001b[39mstop()\n\u001b[1;32m---> 52\u001b[0m \u001b[38;5;28;01mawait\u001b[39;00m main()\n",
      "Cell \u001b[1;32mIn[13], line 40\u001b[0m, in \u001b[0;36mmain\u001b[1;34m()\u001b[0m\n\u001b[0;32m     21\u001b[0m     code_executor_agent \u001b[38;5;241m=\u001b[39m CodeExecutorAgent(\n\u001b[0;32m     22\u001b[0m         name \u001b[38;5;241m=\u001b[39m \u001b[38;5;124m'\u001b[39m\u001b[38;5;124mCodeExecutorAgent\u001b[39m\u001b[38;5;124m'\u001b[39m,\n\u001b[0;32m     23\u001b[0m         code_executor\u001b[38;5;241m=\u001b[39mdocker,\n\u001b[0;32m     24\u001b[0m     )\n\u001b[0;32m     26\u001b[0m     task \u001b[38;5;241m=\u001b[39m TextMessage(\n\u001b[0;32m     27\u001b[0m         content\u001b[38;5;241m=\u001b[39m\u001b[38;5;124m'''\u001b[39m\u001b[38;5;124mHere is the code \u001b[39m\n\u001b[0;32m     28\u001b[0m \u001b[38;5;124m```python\u001b[39m\n\u001b[1;32m   (...)\u001b[0m\n\u001b[0;32m     36\u001b[0m     source\u001b[38;5;241m=\u001b[39m\u001b[38;5;124m'\u001b[39m\u001b[38;5;124muser\u001b[39m\u001b[38;5;124m'\u001b[39m\n\u001b[0;32m     37\u001b[0m     )\n\u001b[1;32m---> 40\u001b[0m     result \u001b[38;5;241m=\u001b[39m \u001b[38;5;28;01mawait\u001b[39;00m code_executor_agent\u001b[38;5;241m.\u001b[39mon_messages(\n\u001b[0;32m     41\u001b[0m         messages\u001b[38;5;241m=\u001b[39m[task],\n\u001b[0;32m     42\u001b[0m         cancellation_token\u001b[38;5;241m=\u001b[39mCancellationToken()\n\u001b[0;32m     43\u001b[0m     )\n\u001b[0;32m     47\u001b[0m     \u001b[38;5;28mprint\u001b[39m(\u001b[38;5;124m\"\u001b[39m\u001b[38;5;124mThe result is\u001b[39m\u001b[38;5;124m\"\u001b[39m,result)\n\u001b[0;32m     49\u001b[0m     \u001b[38;5;28;01mawait\u001b[39;00m docker\u001b[38;5;241m.\u001b[39mstop()\n",
      "File \u001b[1;32mc:\\AI\\projects\\autogen-devops-agent\\devops\\lib\\site-packages\\autogen_agentchat\\agents\\_code_executor_agent.py:407\u001b[0m, in \u001b[0;36mCodeExecutorAgent.on_messages\u001b[1;34m(self, messages, cancellation_token)\u001b[0m\n\u001b[0;32m    406\u001b[0m \u001b[38;5;28;01masync\u001b[39;00m \u001b[38;5;28;01mdef\u001b[39;00m\u001b[38;5;250m \u001b[39m\u001b[38;5;21mon_messages\u001b[39m(\u001b[38;5;28mself\u001b[39m, messages: Sequence[BaseChatMessage], cancellation_token: CancellationToken) \u001b[38;5;241m-\u001b[39m\u001b[38;5;241m>\u001b[39m Response:\n\u001b[1;32m--> 407\u001b[0m     \u001b[38;5;28;01masync\u001b[39;00m \u001b[38;5;28;01mfor\u001b[39;00m message \u001b[38;5;129;01min\u001b[39;00m \u001b[38;5;28mself\u001b[39m\u001b[38;5;241m.\u001b[39mon_messages_stream(messages, cancellation_token):\n\u001b[0;32m    408\u001b[0m         \u001b[38;5;28;01mif\u001b[39;00m \u001b[38;5;28misinstance\u001b[39m(message, Response):\n\u001b[0;32m    409\u001b[0m             \u001b[38;5;28;01mreturn\u001b[39;00m message\n",
      "File \u001b[1;32mc:\\AI\\projects\\autogen-devops-agent\\devops\\lib\\site-packages\\autogen_agentchat\\agents\\_code_executor_agent.py:439\u001b[0m, in \u001b[0;36mCodeExecutorAgent.on_messages_stream\u001b[1;34m(self, messages, cancellation_token)\u001b[0m\n\u001b[0;32m    432\u001b[0m     \u001b[38;5;28;01myield\u001b[39;00m Response(\n\u001b[0;32m    433\u001b[0m         chat_message\u001b[38;5;241m=\u001b[39mTextMessage(\n\u001b[0;32m    434\u001b[0m             content\u001b[38;5;241m=\u001b[39m\u001b[38;5;28mself\u001b[39m\u001b[38;5;241m.\u001b[39mNO_CODE_BLOCKS_FOUND_MESSAGE,\n\u001b[0;32m    435\u001b[0m             source\u001b[38;5;241m=\u001b[39magent_name,\n\u001b[0;32m    436\u001b[0m         )\n\u001b[0;32m    437\u001b[0m     )\n\u001b[0;32m    438\u001b[0m     \u001b[38;5;28;01mreturn\u001b[39;00m\n\u001b[1;32m--> 439\u001b[0m execution_result \u001b[38;5;241m=\u001b[39m \u001b[38;5;28;01mawait\u001b[39;00m \u001b[38;5;28mself\u001b[39m\u001b[38;5;241m.\u001b[39mexecute_code_block(code_blocks, cancellation_token)\n\u001b[0;32m    440\u001b[0m \u001b[38;5;28;01myield\u001b[39;00m Response(chat_message\u001b[38;5;241m=\u001b[39mTextMessage(content\u001b[38;5;241m=\u001b[39mexecution_result\u001b[38;5;241m.\u001b[39moutput, source\u001b[38;5;241m=\u001b[39m\u001b[38;5;28mself\u001b[39m\u001b[38;5;241m.\u001b[39mname))\n\u001b[0;32m    441\u001b[0m \u001b[38;5;28;01mreturn\u001b[39;00m\n",
      "File \u001b[1;32mc:\\AI\\projects\\autogen-devops-agent\\devops\\lib\\site-packages\\autogen_agentchat\\agents\\_code_executor_agent.py:588\u001b[0m, in \u001b[0;36mCodeExecutorAgent.execute_code_block\u001b[1;34m(self, code_blocks, cancellation_token)\u001b[0m\n\u001b[0;32m    584\u001b[0m \u001b[38;5;28;01masync\u001b[39;00m \u001b[38;5;28;01mdef\u001b[39;00m\u001b[38;5;250m \u001b[39m\u001b[38;5;21mexecute_code_block\u001b[39m(\n\u001b[0;32m    585\u001b[0m     \u001b[38;5;28mself\u001b[39m, code_blocks: List[CodeBlock], cancellation_token: CancellationToken\n\u001b[0;32m    586\u001b[0m ) \u001b[38;5;241m-\u001b[39m\u001b[38;5;241m>\u001b[39m CodeResult:\n\u001b[0;32m    587\u001b[0m     \u001b[38;5;66;03m# Execute the code blocks.\u001b[39;00m\n\u001b[1;32m--> 588\u001b[0m     result \u001b[38;5;241m=\u001b[39m \u001b[38;5;28;01mawait\u001b[39;00m \u001b[38;5;28mself\u001b[39m\u001b[38;5;241m.\u001b[39m_code_executor\u001b[38;5;241m.\u001b[39mexecute_code_blocks(code_blocks, cancellation_token\u001b[38;5;241m=\u001b[39mcancellation_token)\n\u001b[0;32m    590\u001b[0m     \u001b[38;5;28;01mif\u001b[39;00m result\u001b[38;5;241m.\u001b[39moutput\u001b[38;5;241m.\u001b[39mstrip() \u001b[38;5;241m==\u001b[39m \u001b[38;5;124m\"\u001b[39m\u001b[38;5;124m\"\u001b[39m:\n\u001b[0;32m    591\u001b[0m         \u001b[38;5;66;03m# No output\u001b[39;00m\n\u001b[0;32m    592\u001b[0m         result\u001b[38;5;241m.\u001b[39moutput \u001b[38;5;241m=\u001b[39m \u001b[38;5;124mf\u001b[39m\u001b[38;5;124m\"\u001b[39m\u001b[38;5;124mThe script ran but produced no output to console. The POSIX exit code was: \u001b[39m\u001b[38;5;132;01m{\u001b[39;00mresult\u001b[38;5;241m.\u001b[39mexit_code\u001b[38;5;132;01m}\u001b[39;00m\u001b[38;5;124m. If you were expecting output, consider revising the script to ensure content is printed to stdout.\u001b[39m\u001b[38;5;124m\"\u001b[39m\n",
      "File \u001b[1;32mc:\\AI\\projects\\autogen-devops-agent\\devops\\lib\\site-packages\\autogen_ext\\code_executors\\local\\__init__.py:330\u001b[0m, in \u001b[0;36mLocalCommandLineCodeExecutor.execute_code_blocks\u001b[1;34m(self, code_blocks, cancellation_token)\u001b[0m\n\u001b[0;32m    327\u001b[0m \u001b[38;5;28;01mif\u001b[39;00m \u001b[38;5;129;01mnot\u001b[39;00m \u001b[38;5;28mself\u001b[39m\u001b[38;5;241m.\u001b[39m_setup_functions_complete:\n\u001b[0;32m    328\u001b[0m     \u001b[38;5;28;01mawait\u001b[39;00m \u001b[38;5;28mself\u001b[39m\u001b[38;5;241m.\u001b[39m_setup_functions(cancellation_token)\n\u001b[1;32m--> 330\u001b[0m \u001b[38;5;28;01mreturn\u001b[39;00m \u001b[38;5;28;01mawait\u001b[39;00m \u001b[38;5;28mself\u001b[39m\u001b[38;5;241m.\u001b[39m_execute_code_dont_check_setup(code_blocks, cancellation_token)\n",
      "File \u001b[1;32mc:\\AI\\projects\\autogen-devops-agent\\devops\\lib\\site-packages\\autogen_ext\\code_executors\\local\\__init__.py:431\u001b[0m, in \u001b[0;36mLocalCommandLineCodeExecutor._execute_code_dont_check_setup\u001b[1;34m(self, code_blocks, cancellation_token)\u001b[0m\n\u001b[0;32m    429\u001b[0m proc \u001b[38;5;241m=\u001b[39m \u001b[38;5;28;01mNone\u001b[39;00m  \u001b[38;5;66;03m# Track the process\u001b[39;00m\n\u001b[0;32m    430\u001b[0m \u001b[38;5;28;01mtry\u001b[39;00m:\n\u001b[1;32m--> 431\u001b[0m     proc \u001b[38;5;241m=\u001b[39m \u001b[38;5;28;01mawait\u001b[39;00m task\n\u001b[0;32m    432\u001b[0m     stdout, stderr \u001b[38;5;241m=\u001b[39m \u001b[38;5;28;01mawait\u001b[39;00m asyncio\u001b[38;5;241m.\u001b[39mwait_for(proc\u001b[38;5;241m.\u001b[39mcommunicate(), \u001b[38;5;28mself\u001b[39m\u001b[38;5;241m.\u001b[39m_timeout)\n\u001b[0;32m    433\u001b[0m     exitcode \u001b[38;5;241m=\u001b[39m proc\u001b[38;5;241m.\u001b[39mreturncode \u001b[38;5;129;01mor\u001b[39;00m \u001b[38;5;241m0\u001b[39m\n",
      "File \u001b[1;32mc:\\AI\\projects\\autogen-devops-agent\\devops\\lib\\asyncio\\subprocess.py:218\u001b[0m, in \u001b[0;36mcreate_subprocess_exec\u001b[1;34m(program, stdin, stdout, stderr, limit, *args, **kwds)\u001b[0m\n\u001b[0;32m    215\u001b[0m loop \u001b[38;5;241m=\u001b[39m events\u001b[38;5;241m.\u001b[39mget_running_loop()\n\u001b[0;32m    216\u001b[0m protocol_factory \u001b[38;5;241m=\u001b[39m \u001b[38;5;28;01mlambda\u001b[39;00m: SubprocessStreamProtocol(limit\u001b[38;5;241m=\u001b[39mlimit,\n\u001b[0;32m    217\u001b[0m                                                     loop\u001b[38;5;241m=\u001b[39mloop)\n\u001b[1;32m--> 218\u001b[0m transport, protocol \u001b[38;5;241m=\u001b[39m \u001b[38;5;28;01mawait\u001b[39;00m loop\u001b[38;5;241m.\u001b[39msubprocess_exec(\n\u001b[0;32m    219\u001b[0m     protocol_factory,\n\u001b[0;32m    220\u001b[0m     program, \u001b[38;5;241m*\u001b[39margs,\n\u001b[0;32m    221\u001b[0m     stdin\u001b[38;5;241m=\u001b[39mstdin, stdout\u001b[38;5;241m=\u001b[39mstdout,\n\u001b[0;32m    222\u001b[0m     stderr\u001b[38;5;241m=\u001b[39mstderr, \u001b[38;5;241m*\u001b[39m\u001b[38;5;241m*\u001b[39mkwds)\n\u001b[0;32m    223\u001b[0m \u001b[38;5;28;01mreturn\u001b[39;00m Process(transport, protocol, loop)\n",
      "File \u001b[1;32mc:\\AI\\projects\\autogen-devops-agent\\devops\\lib\\asyncio\\base_events.py:1681\u001b[0m, in \u001b[0;36mBaseEventLoop.subprocess_exec\u001b[1;34m(self, protocol_factory, program, stdin, stdout, stderr, universal_newlines, shell, bufsize, encoding, errors, text, *args, **kwargs)\u001b[0m\n\u001b[0;32m   1679\u001b[0m     debug_log \u001b[38;5;241m=\u001b[39m \u001b[38;5;124mf\u001b[39m\u001b[38;5;124m'\u001b[39m\u001b[38;5;124mexecute program \u001b[39m\u001b[38;5;132;01m{\u001b[39;00mprogram\u001b[38;5;132;01m!r}\u001b[39;00m\u001b[38;5;124m'\u001b[39m\n\u001b[0;32m   1680\u001b[0m     \u001b[38;5;28mself\u001b[39m\u001b[38;5;241m.\u001b[39m_log_subprocess(debug_log, stdin, stdout, stderr)\n\u001b[1;32m-> 1681\u001b[0m transport \u001b[38;5;241m=\u001b[39m \u001b[38;5;28;01mawait\u001b[39;00m \u001b[38;5;28mself\u001b[39m\u001b[38;5;241m.\u001b[39m_make_subprocess_transport(\n\u001b[0;32m   1682\u001b[0m     protocol, popen_args, \u001b[38;5;28;01mFalse\u001b[39;00m, stdin, stdout, stderr,\n\u001b[0;32m   1683\u001b[0m     bufsize, \u001b[38;5;241m*\u001b[39m\u001b[38;5;241m*\u001b[39mkwargs)\n\u001b[0;32m   1684\u001b[0m \u001b[38;5;28;01mif\u001b[39;00m \u001b[38;5;28mself\u001b[39m\u001b[38;5;241m.\u001b[39m_debug \u001b[38;5;129;01mand\u001b[39;00m debug_log \u001b[38;5;129;01mis\u001b[39;00m \u001b[38;5;129;01mnot\u001b[39;00m \u001b[38;5;28;01mNone\u001b[39;00m:\n\u001b[0;32m   1685\u001b[0m     logger\u001b[38;5;241m.\u001b[39minfo(\u001b[38;5;124m'\u001b[39m\u001b[38;5;132;01m%s\u001b[39;00m\u001b[38;5;124m: \u001b[39m\u001b[38;5;132;01m%r\u001b[39;00m\u001b[38;5;124m'\u001b[39m, debug_log, transport)\n",
      "File \u001b[1;32mc:\\AI\\projects\\autogen-devops-agent\\devops\\lib\\asyncio\\base_events.py:498\u001b[0m, in \u001b[0;36mBaseEventLoop._make_subprocess_transport\u001b[1;34m(self, protocol, args, shell, stdin, stdout, stderr, bufsize, extra, **kwargs)\u001b[0m\n\u001b[0;32m    494\u001b[0m \u001b[38;5;28;01masync\u001b[39;00m \u001b[38;5;28;01mdef\u001b[39;00m\u001b[38;5;250m \u001b[39m\u001b[38;5;21m_make_subprocess_transport\u001b[39m(\u001b[38;5;28mself\u001b[39m, protocol, args, shell,\n\u001b[0;32m    495\u001b[0m                                      stdin, stdout, stderr, bufsize,\n\u001b[0;32m    496\u001b[0m                                      extra\u001b[38;5;241m=\u001b[39m\u001b[38;5;28;01mNone\u001b[39;00m, \u001b[38;5;241m*\u001b[39m\u001b[38;5;241m*\u001b[39mkwargs):\n\u001b[0;32m    497\u001b[0m \u001b[38;5;250m    \u001b[39m\u001b[38;5;124;03m\"\"\"Create subprocess transport.\"\"\"\u001b[39;00m\n\u001b[1;32m--> 498\u001b[0m     \u001b[38;5;28;01mraise\u001b[39;00m \u001b[38;5;167;01mNotImplementedError\u001b[39;00m\n",
      "\u001b[1;31mNotImplementedError\u001b[0m: "
     ]
    }
   ],
   "source": [
    "\n",
    "\n",
    "from autogen_agentchat.agents import CodeExecutorAgent\n",
    "import asyncio\n",
    "from autogen_ext.code_executors.local  import LocalCommandLineCodeExecutor\n",
    "from autogen_agentchat.messages import TextMessage\n",
    "from autogen_core import CancellationToken\n",
    "\n",
    "async def main():\n",
    "\n",
    "    docker = LocalCommandLineCodeExecutor(\n",
    "        work_dir='tmp',\n",
    "        timeout=120\n",
    "    )\n",
    "    await docker.start()\n",
    "    code_executor_agent = CodeExecutorAgent(\n",
    "        name = 'CodeExecutorAgent',\n",
    "        code_executor=docker,\n",
    "    )\n",
    "\n",
    "    task = TextMessage(\n",
    "        content='''Here is the code \n",
    "```python\n",
    "print(\"hello world\")\n",
    "```\n",
    "        \n",
    "```python\n",
    "print(\"hello world 2\")\n",
    "```\n",
    "    ''',\n",
    "    source='user'\n",
    "    )\n",
    "\n",
    "    \n",
    "    result = await code_executor_agent.on_messages(\n",
    "        messages=[task],\n",
    "        cancellation_token=CancellationToken()\n",
    "    )\n",
    "    \n",
    "    \n",
    "\n",
    "    print(\"The result is\",result)\n",
    "\n",
    "    await docker.stop()\n",
    "\n",
    "\n",
    "await main()"
   ]
  },
  {
   "cell_type": "code",
   "execution_count": 15,
   "id": "565ebaa8",
   "metadata": {},
   "outputs": [
    {
     "name": "stderr",
     "output_type": "stream",
     "text": [
      "C:\\Users\\Charan\\AppData\\Local\\Temp\\ipykernel_9700\\128596805.py:9: UserWarning: The current event loop policy is not WindowsProactorEventLoopPolicy. This may cause issues with subprocesses. Try setting the event loop policy to WindowsProactorEventLoopPolicy. For example: `asyncio.set_event_loop_policy(asyncio.WindowsProactorEventLoopPolicy())`. See https://docs.python.org/3/library/asyncio-eventloop.html#asyncio.ProactorEventLoop.\n",
      "  docker = LocalCommandLineCodeExecutor(\n"
     ]
    },
    {
     "ename": "NotImplementedError",
     "evalue": "",
     "output_type": "error",
     "traceback": [
      "\u001b[1;31m---------------------------------------------------------------------------\u001b[0m",
      "\u001b[1;31mNotImplementedError\u001b[0m                       Traceback (most recent call last)",
      "Cell \u001b[1;32mIn[15], line 45\u001b[0m\n\u001b[0;32m     40\u001b[0m     \u001b[38;5;28mprint\u001b[39m(\u001b[38;5;124m\"\u001b[39m\u001b[38;5;124mThe result is\u001b[39m\u001b[38;5;124m\"\u001b[39m,result)\n\u001b[0;32m     42\u001b[0m     \u001b[38;5;28;01mawait\u001b[39;00m docker\u001b[38;5;241m.\u001b[39mstop()\n\u001b[1;32m---> 45\u001b[0m \u001b[38;5;28;01mawait\u001b[39;00m main()\n",
      "Cell \u001b[1;32mIn[15], line 33\u001b[0m, in \u001b[0;36mmain\u001b[1;34m()\u001b[0m\n\u001b[0;32m     14\u001b[0m     code_executor_agent \u001b[38;5;241m=\u001b[39m CodeExecutorAgent(\n\u001b[0;32m     15\u001b[0m         name \u001b[38;5;241m=\u001b[39m \u001b[38;5;124m'\u001b[39m\u001b[38;5;124mCodeExecutorAgent\u001b[39m\u001b[38;5;124m'\u001b[39m,\n\u001b[0;32m     16\u001b[0m         code_executor\u001b[38;5;241m=\u001b[39mdocker,\n\u001b[0;32m     17\u001b[0m     )\n\u001b[0;32m     19\u001b[0m     task \u001b[38;5;241m=\u001b[39m TextMessage(\n\u001b[0;32m     20\u001b[0m         content\u001b[38;5;241m=\u001b[39m\u001b[38;5;124m'''\u001b[39m\u001b[38;5;124mHere is the code \u001b[39m\n\u001b[0;32m     21\u001b[0m \u001b[38;5;124m```python\u001b[39m\n\u001b[1;32m   (...)\u001b[0m\n\u001b[0;32m     29\u001b[0m     source\u001b[38;5;241m=\u001b[39m\u001b[38;5;124m'\u001b[39m\u001b[38;5;124muser\u001b[39m\u001b[38;5;124m'\u001b[39m\n\u001b[0;32m     30\u001b[0m     )\n\u001b[1;32m---> 33\u001b[0m     result \u001b[38;5;241m=\u001b[39m \u001b[38;5;28;01mawait\u001b[39;00m code_executor_agent\u001b[38;5;241m.\u001b[39mon_messages(\n\u001b[0;32m     34\u001b[0m         messages\u001b[38;5;241m=\u001b[39m[task],\n\u001b[0;32m     35\u001b[0m         cancellation_token\u001b[38;5;241m=\u001b[39mCancellationToken()\n\u001b[0;32m     36\u001b[0m     )\n\u001b[0;32m     40\u001b[0m     \u001b[38;5;28mprint\u001b[39m(\u001b[38;5;124m\"\u001b[39m\u001b[38;5;124mThe result is\u001b[39m\u001b[38;5;124m\"\u001b[39m,result)\n\u001b[0;32m     42\u001b[0m     \u001b[38;5;28;01mawait\u001b[39;00m docker\u001b[38;5;241m.\u001b[39mstop()\n",
      "File \u001b[1;32mc:\\AI\\projects\\autogen-devops-agent\\devops\\lib\\site-packages\\autogen_agentchat\\agents\\_code_executor_agent.py:407\u001b[0m, in \u001b[0;36mCodeExecutorAgent.on_messages\u001b[1;34m(self, messages, cancellation_token)\u001b[0m\n\u001b[0;32m    406\u001b[0m \u001b[38;5;28;01masync\u001b[39;00m \u001b[38;5;28;01mdef\u001b[39;00m\u001b[38;5;250m \u001b[39m\u001b[38;5;21mon_messages\u001b[39m(\u001b[38;5;28mself\u001b[39m, messages: Sequence[BaseChatMessage], cancellation_token: CancellationToken) \u001b[38;5;241m-\u001b[39m\u001b[38;5;241m>\u001b[39m Response:\n\u001b[1;32m--> 407\u001b[0m     \u001b[38;5;28;01masync\u001b[39;00m \u001b[38;5;28;01mfor\u001b[39;00m message \u001b[38;5;129;01min\u001b[39;00m \u001b[38;5;28mself\u001b[39m\u001b[38;5;241m.\u001b[39mon_messages_stream(messages, cancellation_token):\n\u001b[0;32m    408\u001b[0m         \u001b[38;5;28;01mif\u001b[39;00m \u001b[38;5;28misinstance\u001b[39m(message, Response):\n\u001b[0;32m    409\u001b[0m             \u001b[38;5;28;01mreturn\u001b[39;00m message\n",
      "File \u001b[1;32mc:\\AI\\projects\\autogen-devops-agent\\devops\\lib\\site-packages\\autogen_agentchat\\agents\\_code_executor_agent.py:439\u001b[0m, in \u001b[0;36mCodeExecutorAgent.on_messages_stream\u001b[1;34m(self, messages, cancellation_token)\u001b[0m\n\u001b[0;32m    432\u001b[0m     \u001b[38;5;28;01myield\u001b[39;00m Response(\n\u001b[0;32m    433\u001b[0m         chat_message\u001b[38;5;241m=\u001b[39mTextMessage(\n\u001b[0;32m    434\u001b[0m             content\u001b[38;5;241m=\u001b[39m\u001b[38;5;28mself\u001b[39m\u001b[38;5;241m.\u001b[39mNO_CODE_BLOCKS_FOUND_MESSAGE,\n\u001b[0;32m    435\u001b[0m             source\u001b[38;5;241m=\u001b[39magent_name,\n\u001b[0;32m    436\u001b[0m         )\n\u001b[0;32m    437\u001b[0m     )\n\u001b[0;32m    438\u001b[0m     \u001b[38;5;28;01mreturn\u001b[39;00m\n\u001b[1;32m--> 439\u001b[0m execution_result \u001b[38;5;241m=\u001b[39m \u001b[38;5;28;01mawait\u001b[39;00m \u001b[38;5;28mself\u001b[39m\u001b[38;5;241m.\u001b[39mexecute_code_block(code_blocks, cancellation_token)\n\u001b[0;32m    440\u001b[0m \u001b[38;5;28;01myield\u001b[39;00m Response(chat_message\u001b[38;5;241m=\u001b[39mTextMessage(content\u001b[38;5;241m=\u001b[39mexecution_result\u001b[38;5;241m.\u001b[39moutput, source\u001b[38;5;241m=\u001b[39m\u001b[38;5;28mself\u001b[39m\u001b[38;5;241m.\u001b[39mname))\n\u001b[0;32m    441\u001b[0m \u001b[38;5;28;01mreturn\u001b[39;00m\n",
      "File \u001b[1;32mc:\\AI\\projects\\autogen-devops-agent\\devops\\lib\\site-packages\\autogen_agentchat\\agents\\_code_executor_agent.py:588\u001b[0m, in \u001b[0;36mCodeExecutorAgent.execute_code_block\u001b[1;34m(self, code_blocks, cancellation_token)\u001b[0m\n\u001b[0;32m    584\u001b[0m \u001b[38;5;28;01masync\u001b[39;00m \u001b[38;5;28;01mdef\u001b[39;00m\u001b[38;5;250m \u001b[39m\u001b[38;5;21mexecute_code_block\u001b[39m(\n\u001b[0;32m    585\u001b[0m     \u001b[38;5;28mself\u001b[39m, code_blocks: List[CodeBlock], cancellation_token: CancellationToken\n\u001b[0;32m    586\u001b[0m ) \u001b[38;5;241m-\u001b[39m\u001b[38;5;241m>\u001b[39m CodeResult:\n\u001b[0;32m    587\u001b[0m     \u001b[38;5;66;03m# Execute the code blocks.\u001b[39;00m\n\u001b[1;32m--> 588\u001b[0m     result \u001b[38;5;241m=\u001b[39m \u001b[38;5;28;01mawait\u001b[39;00m \u001b[38;5;28mself\u001b[39m\u001b[38;5;241m.\u001b[39m_code_executor\u001b[38;5;241m.\u001b[39mexecute_code_blocks(code_blocks, cancellation_token\u001b[38;5;241m=\u001b[39mcancellation_token)\n\u001b[0;32m    590\u001b[0m     \u001b[38;5;28;01mif\u001b[39;00m result\u001b[38;5;241m.\u001b[39moutput\u001b[38;5;241m.\u001b[39mstrip() \u001b[38;5;241m==\u001b[39m \u001b[38;5;124m\"\u001b[39m\u001b[38;5;124m\"\u001b[39m:\n\u001b[0;32m    591\u001b[0m         \u001b[38;5;66;03m# No output\u001b[39;00m\n\u001b[0;32m    592\u001b[0m         result\u001b[38;5;241m.\u001b[39moutput \u001b[38;5;241m=\u001b[39m \u001b[38;5;124mf\u001b[39m\u001b[38;5;124m\"\u001b[39m\u001b[38;5;124mThe script ran but produced no output to console. The POSIX exit code was: \u001b[39m\u001b[38;5;132;01m{\u001b[39;00mresult\u001b[38;5;241m.\u001b[39mexit_code\u001b[38;5;132;01m}\u001b[39;00m\u001b[38;5;124m. If you were expecting output, consider revising the script to ensure content is printed to stdout.\u001b[39m\u001b[38;5;124m\"\u001b[39m\n",
      "File \u001b[1;32mc:\\AI\\projects\\autogen-devops-agent\\devops\\lib\\site-packages\\autogen_ext\\code_executors\\local\\__init__.py:330\u001b[0m, in \u001b[0;36mLocalCommandLineCodeExecutor.execute_code_blocks\u001b[1;34m(self, code_blocks, cancellation_token)\u001b[0m\n\u001b[0;32m    327\u001b[0m \u001b[38;5;28;01mif\u001b[39;00m \u001b[38;5;129;01mnot\u001b[39;00m \u001b[38;5;28mself\u001b[39m\u001b[38;5;241m.\u001b[39m_setup_functions_complete:\n\u001b[0;32m    328\u001b[0m     \u001b[38;5;28;01mawait\u001b[39;00m \u001b[38;5;28mself\u001b[39m\u001b[38;5;241m.\u001b[39m_setup_functions(cancellation_token)\n\u001b[1;32m--> 330\u001b[0m \u001b[38;5;28;01mreturn\u001b[39;00m \u001b[38;5;28;01mawait\u001b[39;00m \u001b[38;5;28mself\u001b[39m\u001b[38;5;241m.\u001b[39m_execute_code_dont_check_setup(code_blocks, cancellation_token)\n",
      "File \u001b[1;32mc:\\AI\\projects\\autogen-devops-agent\\devops\\lib\\site-packages\\autogen_ext\\code_executors\\local\\__init__.py:431\u001b[0m, in \u001b[0;36mLocalCommandLineCodeExecutor._execute_code_dont_check_setup\u001b[1;34m(self, code_blocks, cancellation_token)\u001b[0m\n\u001b[0;32m    429\u001b[0m proc \u001b[38;5;241m=\u001b[39m \u001b[38;5;28;01mNone\u001b[39;00m  \u001b[38;5;66;03m# Track the process\u001b[39;00m\n\u001b[0;32m    430\u001b[0m \u001b[38;5;28;01mtry\u001b[39;00m:\n\u001b[1;32m--> 431\u001b[0m     proc \u001b[38;5;241m=\u001b[39m \u001b[38;5;28;01mawait\u001b[39;00m task\n\u001b[0;32m    432\u001b[0m     stdout, stderr \u001b[38;5;241m=\u001b[39m \u001b[38;5;28;01mawait\u001b[39;00m asyncio\u001b[38;5;241m.\u001b[39mwait_for(proc\u001b[38;5;241m.\u001b[39mcommunicate(), \u001b[38;5;28mself\u001b[39m\u001b[38;5;241m.\u001b[39m_timeout)\n\u001b[0;32m    433\u001b[0m     exitcode \u001b[38;5;241m=\u001b[39m proc\u001b[38;5;241m.\u001b[39mreturncode \u001b[38;5;129;01mor\u001b[39;00m \u001b[38;5;241m0\u001b[39m\n",
      "File \u001b[1;32mc:\\AI\\projects\\autogen-devops-agent\\devops\\lib\\asyncio\\subprocess.py:218\u001b[0m, in \u001b[0;36mcreate_subprocess_exec\u001b[1;34m(program, stdin, stdout, stderr, limit, *args, **kwds)\u001b[0m\n\u001b[0;32m    215\u001b[0m loop \u001b[38;5;241m=\u001b[39m events\u001b[38;5;241m.\u001b[39mget_running_loop()\n\u001b[0;32m    216\u001b[0m protocol_factory \u001b[38;5;241m=\u001b[39m \u001b[38;5;28;01mlambda\u001b[39;00m: SubprocessStreamProtocol(limit\u001b[38;5;241m=\u001b[39mlimit,\n\u001b[0;32m    217\u001b[0m                                                     loop\u001b[38;5;241m=\u001b[39mloop)\n\u001b[1;32m--> 218\u001b[0m transport, protocol \u001b[38;5;241m=\u001b[39m \u001b[38;5;28;01mawait\u001b[39;00m loop\u001b[38;5;241m.\u001b[39msubprocess_exec(\n\u001b[0;32m    219\u001b[0m     protocol_factory,\n\u001b[0;32m    220\u001b[0m     program, \u001b[38;5;241m*\u001b[39margs,\n\u001b[0;32m    221\u001b[0m     stdin\u001b[38;5;241m=\u001b[39mstdin, stdout\u001b[38;5;241m=\u001b[39mstdout,\n\u001b[0;32m    222\u001b[0m     stderr\u001b[38;5;241m=\u001b[39mstderr, \u001b[38;5;241m*\u001b[39m\u001b[38;5;241m*\u001b[39mkwds)\n\u001b[0;32m    223\u001b[0m \u001b[38;5;28;01mreturn\u001b[39;00m Process(transport, protocol, loop)\n",
      "File \u001b[1;32mc:\\AI\\projects\\autogen-devops-agent\\devops\\lib\\asyncio\\base_events.py:1681\u001b[0m, in \u001b[0;36mBaseEventLoop.subprocess_exec\u001b[1;34m(self, protocol_factory, program, stdin, stdout, stderr, universal_newlines, shell, bufsize, encoding, errors, text, *args, **kwargs)\u001b[0m\n\u001b[0;32m   1679\u001b[0m     debug_log \u001b[38;5;241m=\u001b[39m \u001b[38;5;124mf\u001b[39m\u001b[38;5;124m'\u001b[39m\u001b[38;5;124mexecute program \u001b[39m\u001b[38;5;132;01m{\u001b[39;00mprogram\u001b[38;5;132;01m!r}\u001b[39;00m\u001b[38;5;124m'\u001b[39m\n\u001b[0;32m   1680\u001b[0m     \u001b[38;5;28mself\u001b[39m\u001b[38;5;241m.\u001b[39m_log_subprocess(debug_log, stdin, stdout, stderr)\n\u001b[1;32m-> 1681\u001b[0m transport \u001b[38;5;241m=\u001b[39m \u001b[38;5;28;01mawait\u001b[39;00m \u001b[38;5;28mself\u001b[39m\u001b[38;5;241m.\u001b[39m_make_subprocess_transport(\n\u001b[0;32m   1682\u001b[0m     protocol, popen_args, \u001b[38;5;28;01mFalse\u001b[39;00m, stdin, stdout, stderr,\n\u001b[0;32m   1683\u001b[0m     bufsize, \u001b[38;5;241m*\u001b[39m\u001b[38;5;241m*\u001b[39mkwargs)\n\u001b[0;32m   1684\u001b[0m \u001b[38;5;28;01mif\u001b[39;00m \u001b[38;5;28mself\u001b[39m\u001b[38;5;241m.\u001b[39m_debug \u001b[38;5;129;01mand\u001b[39;00m debug_log \u001b[38;5;129;01mis\u001b[39;00m \u001b[38;5;129;01mnot\u001b[39;00m \u001b[38;5;28;01mNone\u001b[39;00m:\n\u001b[0;32m   1685\u001b[0m     logger\u001b[38;5;241m.\u001b[39minfo(\u001b[38;5;124m'\u001b[39m\u001b[38;5;132;01m%s\u001b[39;00m\u001b[38;5;124m: \u001b[39m\u001b[38;5;132;01m%r\u001b[39;00m\u001b[38;5;124m'\u001b[39m, debug_log, transport)\n",
      "File \u001b[1;32mc:\\AI\\projects\\autogen-devops-agent\\devops\\lib\\asyncio\\base_events.py:498\u001b[0m, in \u001b[0;36mBaseEventLoop._make_subprocess_transport\u001b[1;34m(self, protocol, args, shell, stdin, stdout, stderr, bufsize, extra, **kwargs)\u001b[0m\n\u001b[0;32m    494\u001b[0m \u001b[38;5;28;01masync\u001b[39;00m \u001b[38;5;28;01mdef\u001b[39;00m\u001b[38;5;250m \u001b[39m\u001b[38;5;21m_make_subprocess_transport\u001b[39m(\u001b[38;5;28mself\u001b[39m, protocol, args, shell,\n\u001b[0;32m    495\u001b[0m                                      stdin, stdout, stderr, bufsize,\n\u001b[0;32m    496\u001b[0m                                      extra\u001b[38;5;241m=\u001b[39m\u001b[38;5;28;01mNone\u001b[39;00m, \u001b[38;5;241m*\u001b[39m\u001b[38;5;241m*\u001b[39mkwargs):\n\u001b[0;32m    497\u001b[0m \u001b[38;5;250m    \u001b[39m\u001b[38;5;124;03m\"\"\"Create subprocess transport.\"\"\"\u001b[39;00m\n\u001b[1;32m--> 498\u001b[0m     \u001b[38;5;28;01mraise\u001b[39;00m \u001b[38;5;167;01mNotImplementedError\u001b[39;00m\n",
      "\u001b[1;31mNotImplementedError\u001b[0m: "
     ]
    }
   ],
   "source": [
    "from autogen_agentchat.agents import CodeExecutorAgent\n",
    "import asyncio\n",
    "from autogen_ext.code_executors.local  import LocalCommandLineCodeExecutor\n",
    "from autogen_agentchat.messages import TextMessage\n",
    "from autogen_core import CancellationToken\n",
    "\n",
    "async def main():\n",
    "\n",
    "    docker = LocalCommandLineCodeExecutor(\n",
    "        work_dir='tmp',\n",
    "        timeout=120\n",
    "    )\n",
    "    await docker.start()\n",
    "    code_executor_agent = CodeExecutorAgent(\n",
    "        name = 'CodeExecutorAgent',\n",
    "        code_executor=docker,\n",
    "    )\n",
    "\n",
    "    task = TextMessage(\n",
    "        content='''Here is the code \n",
    "```python\n",
    "print(\"hello world\")\n",
    "```\n",
    "        \n",
    "```python\n",
    "print(\"hello world 2\")\n",
    "```\n",
    "    ''',\n",
    "    source='user'\n",
    "    )\n",
    "\n",
    "    \n",
    "    result = await code_executor_agent.on_messages(\n",
    "        messages=[task],\n",
    "        cancellation_token=CancellationToken()\n",
    "    )\n",
    "    \n",
    "    \n",
    "\n",
    "    print(\"The result is\",result)\n",
    "\n",
    "    await docker.stop()\n",
    "\n",
    "\n",
    "await main()"
   ]
  },
  {
   "cell_type": "code",
   "execution_count": 14,
   "id": "91166830",
   "metadata": {},
   "outputs": [],
   "source": [
    "import sys\n",
    "import asyncio\n",
    "import os\n",
    "\n",
    "if sys.platform.startswith('win'):\n",
    "    asyncio.set_event_loop_policy(asyncio.WindowsSelectorEventLoopPolicy())"
   ]
  },
  {
   "cell_type": "code",
   "execution_count": 16,
   "id": "35160870",
   "metadata": {},
   "outputs": [
    {
     "name": "stderr",
     "output_type": "stream",
     "text": [
      "C:\\Users\\Charan\\AppData\\Local\\Temp\\ipykernel_9700\\128596805.py:9: UserWarning: The current event loop policy is not WindowsProactorEventLoopPolicy. This may cause issues with subprocesses. Try setting the event loop policy to WindowsProactorEventLoopPolicy. For example: `asyncio.set_event_loop_policy(asyncio.WindowsProactorEventLoopPolicy())`. See https://docs.python.org/3/library/asyncio-eventloop.html#asyncio.ProactorEventLoop.\n",
      "  docker = LocalCommandLineCodeExecutor(\n"
     ]
    },
    {
     "ename": "NotImplementedError",
     "evalue": "",
     "output_type": "error",
     "traceback": [
      "\u001b[1;31m---------------------------------------------------------------------------\u001b[0m",
      "\u001b[1;31mNotImplementedError\u001b[0m                       Traceback (most recent call last)",
      "Cell \u001b[1;32mIn[16], line 45\u001b[0m\n\u001b[0;32m     40\u001b[0m     \u001b[38;5;28mprint\u001b[39m(\u001b[38;5;124m\"\u001b[39m\u001b[38;5;124mThe result is\u001b[39m\u001b[38;5;124m\"\u001b[39m,result)\n\u001b[0;32m     42\u001b[0m     \u001b[38;5;28;01mawait\u001b[39;00m docker\u001b[38;5;241m.\u001b[39mstop()\n\u001b[1;32m---> 45\u001b[0m \u001b[38;5;28;01mawait\u001b[39;00m main()\n",
      "Cell \u001b[1;32mIn[16], line 33\u001b[0m, in \u001b[0;36mmain\u001b[1;34m()\u001b[0m\n\u001b[0;32m     14\u001b[0m     code_executor_agent \u001b[38;5;241m=\u001b[39m CodeExecutorAgent(\n\u001b[0;32m     15\u001b[0m         name \u001b[38;5;241m=\u001b[39m \u001b[38;5;124m'\u001b[39m\u001b[38;5;124mCodeExecutorAgent\u001b[39m\u001b[38;5;124m'\u001b[39m,\n\u001b[0;32m     16\u001b[0m         code_executor\u001b[38;5;241m=\u001b[39mdocker,\n\u001b[0;32m     17\u001b[0m     )\n\u001b[0;32m     19\u001b[0m     task \u001b[38;5;241m=\u001b[39m TextMessage(\n\u001b[0;32m     20\u001b[0m         content\u001b[38;5;241m=\u001b[39m\u001b[38;5;124m'''\u001b[39m\u001b[38;5;124mHere is the code \u001b[39m\n\u001b[0;32m     21\u001b[0m \u001b[38;5;124m```python\u001b[39m\n\u001b[1;32m   (...)\u001b[0m\n\u001b[0;32m     29\u001b[0m     source\u001b[38;5;241m=\u001b[39m\u001b[38;5;124m'\u001b[39m\u001b[38;5;124muser\u001b[39m\u001b[38;5;124m'\u001b[39m\n\u001b[0;32m     30\u001b[0m     )\n\u001b[1;32m---> 33\u001b[0m     result \u001b[38;5;241m=\u001b[39m \u001b[38;5;28;01mawait\u001b[39;00m code_executor_agent\u001b[38;5;241m.\u001b[39mon_messages(\n\u001b[0;32m     34\u001b[0m         messages\u001b[38;5;241m=\u001b[39m[task],\n\u001b[0;32m     35\u001b[0m         cancellation_token\u001b[38;5;241m=\u001b[39mCancellationToken()\n\u001b[0;32m     36\u001b[0m     )\n\u001b[0;32m     40\u001b[0m     \u001b[38;5;28mprint\u001b[39m(\u001b[38;5;124m\"\u001b[39m\u001b[38;5;124mThe result is\u001b[39m\u001b[38;5;124m\"\u001b[39m,result)\n\u001b[0;32m     42\u001b[0m     \u001b[38;5;28;01mawait\u001b[39;00m docker\u001b[38;5;241m.\u001b[39mstop()\n",
      "File \u001b[1;32mc:\\AI\\projects\\autogen-devops-agent\\devops\\lib\\site-packages\\autogen_agentchat\\agents\\_code_executor_agent.py:407\u001b[0m, in \u001b[0;36mCodeExecutorAgent.on_messages\u001b[1;34m(self, messages, cancellation_token)\u001b[0m\n\u001b[0;32m    406\u001b[0m \u001b[38;5;28;01masync\u001b[39;00m \u001b[38;5;28;01mdef\u001b[39;00m\u001b[38;5;250m \u001b[39m\u001b[38;5;21mon_messages\u001b[39m(\u001b[38;5;28mself\u001b[39m, messages: Sequence[BaseChatMessage], cancellation_token: CancellationToken) \u001b[38;5;241m-\u001b[39m\u001b[38;5;241m>\u001b[39m Response:\n\u001b[1;32m--> 407\u001b[0m     \u001b[38;5;28;01masync\u001b[39;00m \u001b[38;5;28;01mfor\u001b[39;00m message \u001b[38;5;129;01min\u001b[39;00m \u001b[38;5;28mself\u001b[39m\u001b[38;5;241m.\u001b[39mon_messages_stream(messages, cancellation_token):\n\u001b[0;32m    408\u001b[0m         \u001b[38;5;28;01mif\u001b[39;00m \u001b[38;5;28misinstance\u001b[39m(message, Response):\n\u001b[0;32m    409\u001b[0m             \u001b[38;5;28;01mreturn\u001b[39;00m message\n",
      "File \u001b[1;32mc:\\AI\\projects\\autogen-devops-agent\\devops\\lib\\site-packages\\autogen_agentchat\\agents\\_code_executor_agent.py:439\u001b[0m, in \u001b[0;36mCodeExecutorAgent.on_messages_stream\u001b[1;34m(self, messages, cancellation_token)\u001b[0m\n\u001b[0;32m    432\u001b[0m     \u001b[38;5;28;01myield\u001b[39;00m Response(\n\u001b[0;32m    433\u001b[0m         chat_message\u001b[38;5;241m=\u001b[39mTextMessage(\n\u001b[0;32m    434\u001b[0m             content\u001b[38;5;241m=\u001b[39m\u001b[38;5;28mself\u001b[39m\u001b[38;5;241m.\u001b[39mNO_CODE_BLOCKS_FOUND_MESSAGE,\n\u001b[0;32m    435\u001b[0m             source\u001b[38;5;241m=\u001b[39magent_name,\n\u001b[0;32m    436\u001b[0m         )\n\u001b[0;32m    437\u001b[0m     )\n\u001b[0;32m    438\u001b[0m     \u001b[38;5;28;01mreturn\u001b[39;00m\n\u001b[1;32m--> 439\u001b[0m execution_result \u001b[38;5;241m=\u001b[39m \u001b[38;5;28;01mawait\u001b[39;00m \u001b[38;5;28mself\u001b[39m\u001b[38;5;241m.\u001b[39mexecute_code_block(code_blocks, cancellation_token)\n\u001b[0;32m    440\u001b[0m \u001b[38;5;28;01myield\u001b[39;00m Response(chat_message\u001b[38;5;241m=\u001b[39mTextMessage(content\u001b[38;5;241m=\u001b[39mexecution_result\u001b[38;5;241m.\u001b[39moutput, source\u001b[38;5;241m=\u001b[39m\u001b[38;5;28mself\u001b[39m\u001b[38;5;241m.\u001b[39mname))\n\u001b[0;32m    441\u001b[0m \u001b[38;5;28;01mreturn\u001b[39;00m\n",
      "File \u001b[1;32mc:\\AI\\projects\\autogen-devops-agent\\devops\\lib\\site-packages\\autogen_agentchat\\agents\\_code_executor_agent.py:588\u001b[0m, in \u001b[0;36mCodeExecutorAgent.execute_code_block\u001b[1;34m(self, code_blocks, cancellation_token)\u001b[0m\n\u001b[0;32m    584\u001b[0m \u001b[38;5;28;01masync\u001b[39;00m \u001b[38;5;28;01mdef\u001b[39;00m\u001b[38;5;250m \u001b[39m\u001b[38;5;21mexecute_code_block\u001b[39m(\n\u001b[0;32m    585\u001b[0m     \u001b[38;5;28mself\u001b[39m, code_blocks: List[CodeBlock], cancellation_token: CancellationToken\n\u001b[0;32m    586\u001b[0m ) \u001b[38;5;241m-\u001b[39m\u001b[38;5;241m>\u001b[39m CodeResult:\n\u001b[0;32m    587\u001b[0m     \u001b[38;5;66;03m# Execute the code blocks.\u001b[39;00m\n\u001b[1;32m--> 588\u001b[0m     result \u001b[38;5;241m=\u001b[39m \u001b[38;5;28;01mawait\u001b[39;00m \u001b[38;5;28mself\u001b[39m\u001b[38;5;241m.\u001b[39m_code_executor\u001b[38;5;241m.\u001b[39mexecute_code_blocks(code_blocks, cancellation_token\u001b[38;5;241m=\u001b[39mcancellation_token)\n\u001b[0;32m    590\u001b[0m     \u001b[38;5;28;01mif\u001b[39;00m result\u001b[38;5;241m.\u001b[39moutput\u001b[38;5;241m.\u001b[39mstrip() \u001b[38;5;241m==\u001b[39m \u001b[38;5;124m\"\u001b[39m\u001b[38;5;124m\"\u001b[39m:\n\u001b[0;32m    591\u001b[0m         \u001b[38;5;66;03m# No output\u001b[39;00m\n\u001b[0;32m    592\u001b[0m         result\u001b[38;5;241m.\u001b[39moutput \u001b[38;5;241m=\u001b[39m \u001b[38;5;124mf\u001b[39m\u001b[38;5;124m\"\u001b[39m\u001b[38;5;124mThe script ran but produced no output to console. The POSIX exit code was: \u001b[39m\u001b[38;5;132;01m{\u001b[39;00mresult\u001b[38;5;241m.\u001b[39mexit_code\u001b[38;5;132;01m}\u001b[39;00m\u001b[38;5;124m. If you were expecting output, consider revising the script to ensure content is printed to stdout.\u001b[39m\u001b[38;5;124m\"\u001b[39m\n",
      "File \u001b[1;32mc:\\AI\\projects\\autogen-devops-agent\\devops\\lib\\site-packages\\autogen_ext\\code_executors\\local\\__init__.py:330\u001b[0m, in \u001b[0;36mLocalCommandLineCodeExecutor.execute_code_blocks\u001b[1;34m(self, code_blocks, cancellation_token)\u001b[0m\n\u001b[0;32m    327\u001b[0m \u001b[38;5;28;01mif\u001b[39;00m \u001b[38;5;129;01mnot\u001b[39;00m \u001b[38;5;28mself\u001b[39m\u001b[38;5;241m.\u001b[39m_setup_functions_complete:\n\u001b[0;32m    328\u001b[0m     \u001b[38;5;28;01mawait\u001b[39;00m \u001b[38;5;28mself\u001b[39m\u001b[38;5;241m.\u001b[39m_setup_functions(cancellation_token)\n\u001b[1;32m--> 330\u001b[0m \u001b[38;5;28;01mreturn\u001b[39;00m \u001b[38;5;28;01mawait\u001b[39;00m \u001b[38;5;28mself\u001b[39m\u001b[38;5;241m.\u001b[39m_execute_code_dont_check_setup(code_blocks, cancellation_token)\n",
      "File \u001b[1;32mc:\\AI\\projects\\autogen-devops-agent\\devops\\lib\\site-packages\\autogen_ext\\code_executors\\local\\__init__.py:431\u001b[0m, in \u001b[0;36mLocalCommandLineCodeExecutor._execute_code_dont_check_setup\u001b[1;34m(self, code_blocks, cancellation_token)\u001b[0m\n\u001b[0;32m    429\u001b[0m proc \u001b[38;5;241m=\u001b[39m \u001b[38;5;28;01mNone\u001b[39;00m  \u001b[38;5;66;03m# Track the process\u001b[39;00m\n\u001b[0;32m    430\u001b[0m \u001b[38;5;28;01mtry\u001b[39;00m:\n\u001b[1;32m--> 431\u001b[0m     proc \u001b[38;5;241m=\u001b[39m \u001b[38;5;28;01mawait\u001b[39;00m task\n\u001b[0;32m    432\u001b[0m     stdout, stderr \u001b[38;5;241m=\u001b[39m \u001b[38;5;28;01mawait\u001b[39;00m asyncio\u001b[38;5;241m.\u001b[39mwait_for(proc\u001b[38;5;241m.\u001b[39mcommunicate(), \u001b[38;5;28mself\u001b[39m\u001b[38;5;241m.\u001b[39m_timeout)\n\u001b[0;32m    433\u001b[0m     exitcode \u001b[38;5;241m=\u001b[39m proc\u001b[38;5;241m.\u001b[39mreturncode \u001b[38;5;129;01mor\u001b[39;00m \u001b[38;5;241m0\u001b[39m\n",
      "File \u001b[1;32mc:\\AI\\projects\\autogen-devops-agent\\devops\\lib\\asyncio\\subprocess.py:218\u001b[0m, in \u001b[0;36mcreate_subprocess_exec\u001b[1;34m(program, stdin, stdout, stderr, limit, *args, **kwds)\u001b[0m\n\u001b[0;32m    215\u001b[0m loop \u001b[38;5;241m=\u001b[39m events\u001b[38;5;241m.\u001b[39mget_running_loop()\n\u001b[0;32m    216\u001b[0m protocol_factory \u001b[38;5;241m=\u001b[39m \u001b[38;5;28;01mlambda\u001b[39;00m: SubprocessStreamProtocol(limit\u001b[38;5;241m=\u001b[39mlimit,\n\u001b[0;32m    217\u001b[0m                                                     loop\u001b[38;5;241m=\u001b[39mloop)\n\u001b[1;32m--> 218\u001b[0m transport, protocol \u001b[38;5;241m=\u001b[39m \u001b[38;5;28;01mawait\u001b[39;00m loop\u001b[38;5;241m.\u001b[39msubprocess_exec(\n\u001b[0;32m    219\u001b[0m     protocol_factory,\n\u001b[0;32m    220\u001b[0m     program, \u001b[38;5;241m*\u001b[39margs,\n\u001b[0;32m    221\u001b[0m     stdin\u001b[38;5;241m=\u001b[39mstdin, stdout\u001b[38;5;241m=\u001b[39mstdout,\n\u001b[0;32m    222\u001b[0m     stderr\u001b[38;5;241m=\u001b[39mstderr, \u001b[38;5;241m*\u001b[39m\u001b[38;5;241m*\u001b[39mkwds)\n\u001b[0;32m    223\u001b[0m \u001b[38;5;28;01mreturn\u001b[39;00m Process(transport, protocol, loop)\n",
      "File \u001b[1;32mc:\\AI\\projects\\autogen-devops-agent\\devops\\lib\\asyncio\\base_events.py:1681\u001b[0m, in \u001b[0;36mBaseEventLoop.subprocess_exec\u001b[1;34m(self, protocol_factory, program, stdin, stdout, stderr, universal_newlines, shell, bufsize, encoding, errors, text, *args, **kwargs)\u001b[0m\n\u001b[0;32m   1679\u001b[0m     debug_log \u001b[38;5;241m=\u001b[39m \u001b[38;5;124mf\u001b[39m\u001b[38;5;124m'\u001b[39m\u001b[38;5;124mexecute program \u001b[39m\u001b[38;5;132;01m{\u001b[39;00mprogram\u001b[38;5;132;01m!r}\u001b[39;00m\u001b[38;5;124m'\u001b[39m\n\u001b[0;32m   1680\u001b[0m     \u001b[38;5;28mself\u001b[39m\u001b[38;5;241m.\u001b[39m_log_subprocess(debug_log, stdin, stdout, stderr)\n\u001b[1;32m-> 1681\u001b[0m transport \u001b[38;5;241m=\u001b[39m \u001b[38;5;28;01mawait\u001b[39;00m \u001b[38;5;28mself\u001b[39m\u001b[38;5;241m.\u001b[39m_make_subprocess_transport(\n\u001b[0;32m   1682\u001b[0m     protocol, popen_args, \u001b[38;5;28;01mFalse\u001b[39;00m, stdin, stdout, stderr,\n\u001b[0;32m   1683\u001b[0m     bufsize, \u001b[38;5;241m*\u001b[39m\u001b[38;5;241m*\u001b[39mkwargs)\n\u001b[0;32m   1684\u001b[0m \u001b[38;5;28;01mif\u001b[39;00m \u001b[38;5;28mself\u001b[39m\u001b[38;5;241m.\u001b[39m_debug \u001b[38;5;129;01mand\u001b[39;00m debug_log \u001b[38;5;129;01mis\u001b[39;00m \u001b[38;5;129;01mnot\u001b[39;00m \u001b[38;5;28;01mNone\u001b[39;00m:\n\u001b[0;32m   1685\u001b[0m     logger\u001b[38;5;241m.\u001b[39minfo(\u001b[38;5;124m'\u001b[39m\u001b[38;5;132;01m%s\u001b[39;00m\u001b[38;5;124m: \u001b[39m\u001b[38;5;132;01m%r\u001b[39;00m\u001b[38;5;124m'\u001b[39m, debug_log, transport)\n",
      "File \u001b[1;32mc:\\AI\\projects\\autogen-devops-agent\\devops\\lib\\asyncio\\base_events.py:498\u001b[0m, in \u001b[0;36mBaseEventLoop._make_subprocess_transport\u001b[1;34m(self, protocol, args, shell, stdin, stdout, stderr, bufsize, extra, **kwargs)\u001b[0m\n\u001b[0;32m    494\u001b[0m \u001b[38;5;28;01masync\u001b[39;00m \u001b[38;5;28;01mdef\u001b[39;00m\u001b[38;5;250m \u001b[39m\u001b[38;5;21m_make_subprocess_transport\u001b[39m(\u001b[38;5;28mself\u001b[39m, protocol, args, shell,\n\u001b[0;32m    495\u001b[0m                                      stdin, stdout, stderr, bufsize,\n\u001b[0;32m    496\u001b[0m                                      extra\u001b[38;5;241m=\u001b[39m\u001b[38;5;28;01mNone\u001b[39;00m, \u001b[38;5;241m*\u001b[39m\u001b[38;5;241m*\u001b[39mkwargs):\n\u001b[0;32m    497\u001b[0m \u001b[38;5;250m    \u001b[39m\u001b[38;5;124;03m\"\"\"Create subprocess transport.\"\"\"\u001b[39;00m\n\u001b[1;32m--> 498\u001b[0m     \u001b[38;5;28;01mraise\u001b[39;00m \u001b[38;5;167;01mNotImplementedError\u001b[39;00m\n",
      "\u001b[1;31mNotImplementedError\u001b[0m: "
     ]
    }
   ],
   "source": [
    "from autogen_agentchat.agents import CodeExecutorAgent\n",
    "import asyncio\n",
    "from autogen_ext.code_executors.local  import LocalCommandLineCodeExecutor\n",
    "from autogen_agentchat.messages import TextMessage\n",
    "from autogen_core import CancellationToken\n",
    "\n",
    "async def main():\n",
    "\n",
    "    docker = LocalCommandLineCodeExecutor(\n",
    "        work_dir='tmp',\n",
    "        timeout=120\n",
    "    )\n",
    "    await docker.start()\n",
    "    code_executor_agent = CodeExecutorAgent(\n",
    "        name = 'CodeExecutorAgent',\n",
    "        code_executor=docker,\n",
    "    )\n",
    "\n",
    "    task = TextMessage(\n",
    "        content='''Here is the code \n",
    "```python\n",
    "print(\"hello world\")\n",
    "```\n",
    "        \n",
    "```python\n",
    "print(\"hello world 2\")\n",
    "```\n",
    "    ''',\n",
    "    source='user'\n",
    "    )\n",
    "\n",
    "    \n",
    "    result = await code_executor_agent.on_messages(\n",
    "        messages=[task],\n",
    "        cancellation_token=CancellationToken()\n",
    "    )\n",
    "    \n",
    "    \n",
    "\n",
    "    print(\"The result is\",result)\n",
    "\n",
    "    await docker.stop()\n",
    "\n",
    "\n",
    "await main()"
   ]
  }
 ],
 "metadata": {
  "kernelspec": {
   "display_name": "Python 3",
   "language": "python",
   "name": "python3"
  },
  "language_info": {
   "codemirror_mode": {
    "name": "ipython",
    "version": 3
   },
   "file_extension": ".py",
   "mimetype": "text/x-python",
   "name": "python",
   "nbconvert_exporter": "python",
   "pygments_lexer": "ipython3",
   "version": "3.10.18"
  }
 },
 "nbformat": 4,
 "nbformat_minor": 5
}
